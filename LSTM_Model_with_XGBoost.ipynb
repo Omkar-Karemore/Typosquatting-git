{
 "cells": [
  {
   "cell_type": "code",
   "execution_count": 1,
   "id": "89e1e1a8-f722-422c-adaa-9e2ff791b23c",
   "metadata": {},
   "outputs": [],
   "source": [
    "import pandas as pd\n",
    "import numpy as np\n",
    "from sklearn.model_selection import train_test_split,  RandomizedSearchCV\n",
    "from sklearn.preprocessing import LabelEncoder, StandardScaler\n",
    "from sklearn.metrics import accuracy_score\n",
    "from xgboost import XGBClassifier\n",
    "import tensorflow as tf\n",
    "from tensorflow.keras.preprocessing.text import Tokenizer\n",
    "from tensorflow.keras.preprocessing.sequence import pad_sequences\n",
    "from tensorflow.keras.models import Model\n",
    "from tensorflow.keras.layers import Input, Embedding, LSTM, Dense, concatenate, Flatten"
   ]
  },
  {
   "cell_type": "code",
   "execution_count": 2,
   "id": "c41f59eb-ac87-45c0-9a64-c846b566addf",
   "metadata": {},
   "outputs": [],
   "source": [
    "# Load the data\n",
    "df = pd.read_excel(r\"E:\\CDAC 2024\\Cdac Project\\Typo_dataset_new.xlsx\")\n",
    "df_cp = df.copy()\n"
   ]
  },
  {
   "cell_type": "code",
   "execution_count": 3,
   "id": "b2c73fb5-a6b9-40ae-8a1c-84250841ddb3",
   "metadata": {},
   "outputs": [],
   "source": [
    "# Function to extract IP features\n",
    "def extract_ip_features(ip_list):\n",
    "    if pd.isna(ip_list) or ip_list == ['!ServFail']:\n",
    "        return [0, 0, 0, 0, 0, 0]\n",
    "    else:\n",
    "        ip_str = ip_list[0]\n",
    "        if '.' in ip_str:\n",
    "            octets = list(map(int, ip_str.split('.')))\n",
    "            return octets + [1, 0]  # [octets..., is_ipv4, is_ipv6]\n",
    "        elif ':' in ip_str:\n",
    "            return [0, 0, 0, 0, 0, 1]  # [octets..., is_ipv4, is_ipv6]\n",
    "\n",
    "# Apply the function to the 'typoip' column\n",
    "df_cp['typoip'] = df_cp['typoip'].apply(lambda x: eval(x) if isinstance(x, str) else x)\n",
    "df_cp[['ip1', 'ip2', 'ip3', 'ip4', 'is_ipv4', 'is_ipv6']] = pd.DataFrame(df_cp['typoip'].apply(extract_ip_features).tolist(), index=df_cp.index)\n"
   ]
  },
  {
   "cell_type": "code",
   "execution_count": 4,
   "id": "25c0655b-16db-4b01-bc1c-7f6827d99c08",
   "metadata": {},
   "outputs": [],
   "source": [
    "# Function to extract lexical features\n",
    "def extract_lexical_features(domain):\n",
    "    features = {\n",
    "        'length': len(domain),\n",
    "        'num_digits': sum(c.isdigit() for c in domain),\n",
    "        'num_hyphens': domain.count('-'),\n",
    "        'num_subdomains': domain.count('.'),\n",
    "        'num_vowels': sum(c in 'aeiou' for c in domain),\n",
    "        'num_consonants': sum(c in 'bcdfghjklmnpqrstvwxyz' for c in domain),\n",
    "        'digit_to_length_ratio': sum(c.isdigit() for c in domain) / len(domain),\n",
    "        'hyphen_to_length_ratio': domain.count('-') / len(domain)\n",
    "    }\n",
    "    return pd.Series(features)\n",
    "\n",
    "# Apply the function to the 'typodomain' column\n",
    "lexical_features = df_cp['typodomain'].apply(extract_lexical_features)\n",
    "df_cp = pd.concat([df_cp, lexical_features], axis=1)"
   ]
  },
  {
   "cell_type": "code",
   "execution_count": 5,
   "id": "d41d94e6-6d63-4437-9bda-665e3113c368",
   "metadata": {},
   "outputs": [],
   "source": [
    "# Encode 'typotype' labels\n",
    "label_encoder = LabelEncoder()\n",
    "df_cp['typotype'] = label_encoder.fit_transform(df_cp['typotype'])\n"
   ]
  },
  {
   "cell_type": "code",
   "execution_count": 6,
   "id": "8191acce-b8b3-4c50-9596-0f4620b1573f",
   "metadata": {},
   "outputs": [],
   "source": [
    "# Tokenize the domain names for LSTM input\n",
    "tokenizer = Tokenizer()\n",
    "tokenizer.fit_on_texts(df_cp['typodomain'])\n",
    "sequences = tokenizer.texts_to_sequences(df_cp['typodomain'])\n",
    "max_sequence_length = max(len(seq) for seq in sequences)\n",
    "X_sequences = pad_sequences(sequences, maxlen=max_sequence_length)\n"
   ]
  },
  {
   "cell_type": "code",
   "execution_count": 7,
   "id": "8cdc6ae8-5f4b-4981-b2bd-aa44fb06e87d",
   "metadata": {},
   "outputs": [],
   "source": [
    "# Define features (X) and target (y)\n",
    "X_other_features = df_cp.drop(columns=['typodomain', 'typotype', 'typoip', 'typoip6'])\n",
    "y = df_cp['typotype']"
   ]
  },
  {
   "cell_type": "code",
   "execution_count": 8,
   "id": "a621fa9b-b6e5-44ed-a36e-aa79e6a9064a",
   "metadata": {},
   "outputs": [],
   "source": [
    "# Standardize the other features\n",
    "scaler = StandardScaler()\n",
    "X_other_features_scaled = scaler.fit_transform(X_other_features)"
   ]
  },
  {
   "cell_type": "code",
   "execution_count": 9,
   "id": "445c9033-9e72-4bb6-92cb-f35b93d169d6",
   "metadata": {},
   "outputs": [],
   "source": [
    "# Split data into training and testing sets\n",
    "X_seq_train, X_seq_test, X_other_train, X_other_test, y_train, y_test = train_test_split(\n",
    "    X_sequences, X_other_features_scaled, y, test_size=0.2, random_state=42\n",
    ")"
   ]
  },
  {
   "cell_type": "code",
   "execution_count": 10,
   "id": "e9c6fc35-72c4-4859-81ed-bb92c859be77",
   "metadata": {},
   "outputs": [
    {
     "name": "stderr",
     "output_type": "stream",
     "text": [
      "C:\\Users\\HP\\anaconda3\\Lib\\site-packages\\keras\\src\\layers\\core\\embedding.py:90: UserWarning: Argument `input_length` is deprecated. Just remove it.\n",
      "  warnings.warn(\n"
     ]
    }
   ],
   "source": [
    "# Define the LSTM model\n",
    "input_seq = Input(shape=(max_sequence_length,))\n",
    "embedding_layer = Embedding(input_dim=len(tokenizer.word_index) + 1, output_dim=50, input_length=max_sequence_length)(input_seq)\n",
    "lstm_layer = LSTM(128)(embedding_layer)\n",
    "lstm_output = Flatten()(lstm_layer)"
   ]
  },
  {
   "cell_type": "code",
   "execution_count": 11,
   "id": "098b5281-5d06-477b-8822-5b8c6ff16a68",
   "metadata": {},
   "outputs": [],
   "source": [
    "# Define the dense layers for the other features\n",
    "input_other = Input(shape=(X_other_features_scaled.shape[1],))\n",
    "dense_layer = Dense(64, activation='relu')(input_other)"
   ]
  },
  {
   "cell_type": "code",
   "execution_count": 12,
   "id": "cd6eb177-6d44-4a1a-9aa5-3d2ee3673e8b",
   "metadata": {},
   "outputs": [],
   "source": [
    "# Concatenate the outputs of LSTM and dense layers\n",
    "concat_layer = concatenate([lstm_output, dense_layer])\n",
    "dense_layer_2 = Dense(64, activation='relu')(concat_layer)\n",
    "output_layer = Dense(len(np.unique(y)), activation='softmax')(dense_layer_2)\n"
   ]
  },
  {
   "cell_type": "code",
   "execution_count": 13,
   "id": "707e18b4-34b4-423a-a9dd-8d14313c6c9f",
   "metadata": {},
   "outputs": [],
   "source": [
    "# Combine LSTM and dense model\n",
    "combined_model = Model(inputs=[input_seq, input_other], outputs=output_layer)\n",
    "combined_model.compile(loss='sparse_categorical_crossentropy', optimizer='adam', metrics=['accuracy'])\n"
   ]
  },
  {
   "cell_type": "code",
   "execution_count": 14,
   "id": "b1ca26b0-a3e5-45c1-8459-e7dfedf7baf6",
   "metadata": {},
   "outputs": [
    {
     "name": "stdout",
     "output_type": "stream",
     "text": [
      "Epoch 1/10\n",
      "\u001b[1m303/303\u001b[0m \u001b[32m━━━━━━━━━━━━━━━━━━━━\u001b[0m\u001b[37m\u001b[0m \u001b[1m21s\u001b[0m 36ms/step - accuracy: 0.2171 - loss: 2.2245 - val_accuracy: 0.3566 - val_loss: 1.8670\n",
      "Epoch 2/10\n",
      "\u001b[1m303/303\u001b[0m \u001b[32m━━━━━━━━━━━━━━━━━━━━\u001b[0m\u001b[37m\u001b[0m \u001b[1m9s\u001b[0m 30ms/step - accuracy: 0.4429 - loss: 1.6232 - val_accuracy: 0.5471 - val_loss: 1.3824\n",
      "Epoch 3/10\n",
      "\u001b[1m303/303\u001b[0m \u001b[32m━━━━━━━━━━━━━━━━━━━━\u001b[0m\u001b[37m\u001b[0m \u001b[1m18s\u001b[0m 59ms/step - accuracy: 0.7918 - loss: 0.6623 - val_accuracy: 0.5756 - val_loss: 1.4745\n",
      "Epoch 4/10\n",
      "\u001b[1m303/303\u001b[0m \u001b[32m━━━━━━━━━━━━━━━━━━━━\u001b[0m\u001b[37m\u001b[0m \u001b[1m16s\u001b[0m 43ms/step - accuracy: 0.9217 - loss: 0.2641 - val_accuracy: 0.5438 - val_loss: 1.9501\n",
      "Epoch 5/10\n",
      "\u001b[1m303/303\u001b[0m \u001b[32m━━━━━━━━━━━━━━━━━━━━\u001b[0m\u001b[37m\u001b[0m \u001b[1m23s\u001b[0m 51ms/step - accuracy: 0.9664 - loss: 0.1254 - val_accuracy: 0.5211 - val_loss: 2.4054\n",
      "Epoch 6/10\n",
      "\u001b[1m303/303\u001b[0m \u001b[32m━━━━━━━━━━━━━━━━━━━━\u001b[0m\u001b[37m\u001b[0m \u001b[1m11s\u001b[0m 37ms/step - accuracy: 0.9798 - loss: 0.0757 - val_accuracy: 0.5322 - val_loss: 2.3938\n",
      "Epoch 7/10\n",
      "\u001b[1m303/303\u001b[0m \u001b[32m━━━━━━━━━━━━━━━━━━━━\u001b[0m\u001b[37m\u001b[0m \u001b[1m10s\u001b[0m 34ms/step - accuracy: 0.9850 - loss: 0.0552 - val_accuracy: 0.5393 - val_loss: 2.2517\n",
      "Epoch 8/10\n",
      "\u001b[1m303/303\u001b[0m \u001b[32m━━━━━━━━━━━━━━━━━━━━\u001b[0m\u001b[37m\u001b[0m \u001b[1m20s\u001b[0m 33ms/step - accuracy: 0.9857 - loss: 0.0483 - val_accuracy: 0.5347 - val_loss: 2.3008\n",
      "Epoch 9/10\n",
      "\u001b[1m303/303\u001b[0m \u001b[32m━━━━━━━━━━━━━━━━━━━━\u001b[0m\u001b[37m\u001b[0m \u001b[1m10s\u001b[0m 32ms/step - accuracy: 0.9862 - loss: 0.0384 - val_accuracy: 0.5351 - val_loss: 2.5772\n",
      "Epoch 10/10\n",
      "\u001b[1m303/303\u001b[0m \u001b[32m━━━━━━━━━━━━━━━━━━━━\u001b[0m\u001b[37m\u001b[0m \u001b[1m10s\u001b[0m 33ms/step - accuracy: 0.9886 - loss: 0.0361 - val_accuracy: 0.5479 - val_loss: 2.3950\n"
     ]
    },
    {
     "data": {
      "text/plain": [
       "<keras.src.callbacks.history.History at 0x18e591ec3d0>"
      ]
     },
     "execution_count": 14,
     "metadata": {},
     "output_type": "execute_result"
    }
   ],
   "source": [
    "# Train the model\n",
    "combined_model.fit([X_seq_train, X_other_train], y_train, epochs=10, batch_size=32, validation_split=0.2)\n"
   ]
  },
  {
   "cell_type": "code",
   "execution_count": 15,
   "id": "a0c4e20e-faa5-45b6-b810-e0dbfd42ca90",
   "metadata": {},
   "outputs": [
    {
     "name": "stdout",
     "output_type": "stream",
     "text": [
      "\u001b[1m379/379\u001b[0m \u001b[32m━━━━━━━━━━━━━━━━━━━━\u001b[0m\u001b[37m\u001b[0m \u001b[1m5s\u001b[0m 12ms/step\n",
      "\u001b[1m95/95\u001b[0m \u001b[32m━━━━━━━━━━━━━━━━━━━━\u001b[0m\u001b[37m\u001b[0m \u001b[1m1s\u001b[0m 10ms/step\n"
     ]
    }
   ],
   "source": [
    "# Extract the LSTM features\n",
    "lstm_features_model = Model(inputs=combined_model.input[0], outputs=combined_model.get_layer('flatten').output)\n",
    "X_train_lstm_features = lstm_features_model.predict(X_seq_train)\n",
    "X_test_lstm_features = lstm_features_model.predict(X_seq_test)"
   ]
  },
  {
   "cell_type": "code",
   "execution_count": 16,
   "id": "07f58603-7aeb-460a-86ec-36ca6d3ce608",
   "metadata": {},
   "outputs": [],
   "source": [
    "# Combine LSTM features with other features\n",
    "X_train_combined = np.concatenate([X_train_lstm_features, X_other_train], axis=1)\n",
    "X_test_combined = np.concatenate([X_test_lstm_features, X_other_test], axis=1)\n"
   ]
  },
  {
   "cell_type": "code",
   "execution_count": 17,
   "id": "c196bf85-9fc2-44d4-aaa8-8bf5e20aec3d",
   "metadata": {},
   "outputs": [],
   "source": [
    "# Initialize the XGBClassifier\n",
    "xgb_clf = XGBClassifier(\n",
    "    objective='multi:softmax',\n",
    "    num_class=len(np.unique(y)),\n",
    "    eval_metric='mlogloss',\n",
    "    use_label_encoder=False\n",
    ")"
   ]
  },
  {
   "cell_type": "code",
   "execution_count": 18,
   "id": "162741e1-b483-4e0c-9538-394cfc95eee1",
   "metadata": {},
   "outputs": [],
   "source": [
    "# Define the parameter grid for hyperparameter tuning\n",
    "param_grid = {\n",
    "    'n_estimators': [50, 100, 150],\n",
    "    'max_depth': [3, 4, 5, 6, 7],\n",
    "    'learning_rate': [0.01, 0.05, 0.1, 0.2],\n",
    "    'subsample': [0.6, 0.7, 0.8, 0.9, 1.0],\n",
    "    'colsample_bytree': [0.6, 0.7, 0.8, 0.9, 1.0]\n",
    "}"
   ]
  },
  {
   "cell_type": "code",
   "execution_count": 19,
   "id": "e2925465-f43e-43c8-9be3-10f5802d4649",
   "metadata": {},
   "outputs": [],
   "source": [
    "# Initialize RandomizedSearchCV for hyperparameter tuning\n",
    "random_search = RandomizedSearchCV(\n",
    "    estimator=xgb_clf,\n",
    "    param_distributions=param_grid,\n",
    "    n_iter=100,\n",
    "    scoring='accuracy',\n",
    "    cv=3,\n",
    "    verbose=2,\n",
    "    random_state=42,\n",
    "    n_jobs=-1\n",
    ")"
   ]
  },
  {
   "cell_type": "code",
   "execution_count": 20,
   "id": "8492f73a-efec-42fa-a547-126bf8e3cb5a",
   "metadata": {},
   "outputs": [
    {
     "name": "stdout",
     "output_type": "stream",
     "text": [
      "Fitting 3 folds for each of 100 candidates, totalling 300 fits\n"
     ]
    },
    {
     "name": "stderr",
     "output_type": "stream",
     "text": [
      "C:\\Users\\HP\\anaconda3\\Lib\\site-packages\\xgboost\\core.py:158: UserWarning: [15:57:28] WARNING: C:\\buildkite-agent\\builds\\buildkite-windows-cpu-autoscaling-group-i-06abd128ca6c1688d-1\\xgboost\\xgboost-ci-windows\\src\\learner.cc:740: \n",
      "Parameters: { \"use_label_encoder\" } are not used.\n",
      "\n",
      "  warnings.warn(smsg, UserWarning)\n"
     ]
    },
    {
     "data": {
      "text/html": [
       "<style>#sk-container-id-1 {color: black;background-color: white;}#sk-container-id-1 pre{padding: 0;}#sk-container-id-1 div.sk-toggleable {background-color: white;}#sk-container-id-1 label.sk-toggleable__label {cursor: pointer;display: block;width: 100%;margin-bottom: 0;padding: 0.3em;box-sizing: border-box;text-align: center;}#sk-container-id-1 label.sk-toggleable__label-arrow:before {content: \"▸\";float: left;margin-right: 0.25em;color: #696969;}#sk-container-id-1 label.sk-toggleable__label-arrow:hover:before {color: black;}#sk-container-id-1 div.sk-estimator:hover label.sk-toggleable__label-arrow:before {color: black;}#sk-container-id-1 div.sk-toggleable__content {max-height: 0;max-width: 0;overflow: hidden;text-align: left;background-color: #f0f8ff;}#sk-container-id-1 div.sk-toggleable__content pre {margin: 0.2em;color: black;border-radius: 0.25em;background-color: #f0f8ff;}#sk-container-id-1 input.sk-toggleable__control:checked~div.sk-toggleable__content {max-height: 200px;max-width: 100%;overflow: auto;}#sk-container-id-1 input.sk-toggleable__control:checked~label.sk-toggleable__label-arrow:before {content: \"▾\";}#sk-container-id-1 div.sk-estimator input.sk-toggleable__control:checked~label.sk-toggleable__label {background-color: #d4ebff;}#sk-container-id-1 div.sk-label input.sk-toggleable__control:checked~label.sk-toggleable__label {background-color: #d4ebff;}#sk-container-id-1 input.sk-hidden--visually {border: 0;clip: rect(1px 1px 1px 1px);clip: rect(1px, 1px, 1px, 1px);height: 1px;margin: -1px;overflow: hidden;padding: 0;position: absolute;width: 1px;}#sk-container-id-1 div.sk-estimator {font-family: monospace;background-color: #f0f8ff;border: 1px dotted black;border-radius: 0.25em;box-sizing: border-box;margin-bottom: 0.5em;}#sk-container-id-1 div.sk-estimator:hover {background-color: #d4ebff;}#sk-container-id-1 div.sk-parallel-item::after {content: \"\";width: 100%;border-bottom: 1px solid gray;flex-grow: 1;}#sk-container-id-1 div.sk-label:hover label.sk-toggleable__label {background-color: #d4ebff;}#sk-container-id-1 div.sk-serial::before {content: \"\";position: absolute;border-left: 1px solid gray;box-sizing: border-box;top: 0;bottom: 0;left: 50%;z-index: 0;}#sk-container-id-1 div.sk-serial {display: flex;flex-direction: column;align-items: center;background-color: white;padding-right: 0.2em;padding-left: 0.2em;position: relative;}#sk-container-id-1 div.sk-item {position: relative;z-index: 1;}#sk-container-id-1 div.sk-parallel {display: flex;align-items: stretch;justify-content: center;background-color: white;position: relative;}#sk-container-id-1 div.sk-item::before, #sk-container-id-1 div.sk-parallel-item::before {content: \"\";position: absolute;border-left: 1px solid gray;box-sizing: border-box;top: 0;bottom: 0;left: 50%;z-index: -1;}#sk-container-id-1 div.sk-parallel-item {display: flex;flex-direction: column;z-index: 1;position: relative;background-color: white;}#sk-container-id-1 div.sk-parallel-item:first-child::after {align-self: flex-end;width: 50%;}#sk-container-id-1 div.sk-parallel-item:last-child::after {align-self: flex-start;width: 50%;}#sk-container-id-1 div.sk-parallel-item:only-child::after {width: 0;}#sk-container-id-1 div.sk-dashed-wrapped {border: 1px dashed gray;margin: 0 0.4em 0.5em 0.4em;box-sizing: border-box;padding-bottom: 0.4em;background-color: white;}#sk-container-id-1 div.sk-label label {font-family: monospace;font-weight: bold;display: inline-block;line-height: 1.2em;}#sk-container-id-1 div.sk-label-container {text-align: center;}#sk-container-id-1 div.sk-container {/* jupyter's `normalize.less` sets `[hidden] { display: none; }` but bootstrap.min.css set `[hidden] { display: none !important; }` so we also need the `!important` here to be able to override the default hidden behavior on the sphinx rendered scikit-learn.org. See: https://github.com/scikit-learn/scikit-learn/issues/21755 */display: inline-block !important;position: relative;}#sk-container-id-1 div.sk-text-repr-fallback {display: none;}</style><div id=\"sk-container-id-1\" class=\"sk-top-container\"><div class=\"sk-text-repr-fallback\"><pre>RandomizedSearchCV(cv=3,\n",
       "                   estimator=XGBClassifier(base_score=None, booster=None,\n",
       "                                           callbacks=None,\n",
       "                                           colsample_bylevel=None,\n",
       "                                           colsample_bynode=None,\n",
       "                                           colsample_bytree=None, device=None,\n",
       "                                           early_stopping_rounds=None,\n",
       "                                           enable_categorical=False,\n",
       "                                           eval_metric=&#x27;mlogloss&#x27;,\n",
       "                                           feature_types=None, gamma=None,\n",
       "                                           grow_policy=None,\n",
       "                                           importance_type=None,\n",
       "                                           interaction_constraints=None,\n",
       "                                           learnin...\n",
       "                                           monotone_constraints=None,\n",
       "                                           multi_strategy=None,\n",
       "                                           n_estimators=None, n_jobs=None,\n",
       "                                           num_class=13, num_parallel_tree=None, ...),\n",
       "                   n_iter=100, n_jobs=-1,\n",
       "                   param_distributions={&#x27;colsample_bytree&#x27;: [0.6, 0.7, 0.8, 0.9,\n",
       "                                                             1.0],\n",
       "                                        &#x27;learning_rate&#x27;: [0.01, 0.05, 0.1, 0.2],\n",
       "                                        &#x27;max_depth&#x27;: [3, 4, 5, 6, 7],\n",
       "                                        &#x27;n_estimators&#x27;: [50, 100, 150],\n",
       "                                        &#x27;subsample&#x27;: [0.6, 0.7, 0.8, 0.9, 1.0]},\n",
       "                   random_state=42, scoring=&#x27;accuracy&#x27;, verbose=2)</pre><b>In a Jupyter environment, please rerun this cell to show the HTML representation or trust the notebook. <br />On GitHub, the HTML representation is unable to render, please try loading this page with nbviewer.org.</b></div><div class=\"sk-container\" hidden><div class=\"sk-item sk-dashed-wrapped\"><div class=\"sk-label-container\"><div class=\"sk-label sk-toggleable\"><input class=\"sk-toggleable__control sk-hidden--visually\" id=\"sk-estimator-id-1\" type=\"checkbox\" ><label for=\"sk-estimator-id-1\" class=\"sk-toggleable__label sk-toggleable__label-arrow\">RandomizedSearchCV</label><div class=\"sk-toggleable__content\"><pre>RandomizedSearchCV(cv=3,\n",
       "                   estimator=XGBClassifier(base_score=None, booster=None,\n",
       "                                           callbacks=None,\n",
       "                                           colsample_bylevel=None,\n",
       "                                           colsample_bynode=None,\n",
       "                                           colsample_bytree=None, device=None,\n",
       "                                           early_stopping_rounds=None,\n",
       "                                           enable_categorical=False,\n",
       "                                           eval_metric=&#x27;mlogloss&#x27;,\n",
       "                                           feature_types=None, gamma=None,\n",
       "                                           grow_policy=None,\n",
       "                                           importance_type=None,\n",
       "                                           interaction_constraints=None,\n",
       "                                           learnin...\n",
       "                                           monotone_constraints=None,\n",
       "                                           multi_strategy=None,\n",
       "                                           n_estimators=None, n_jobs=None,\n",
       "                                           num_class=13, num_parallel_tree=None, ...),\n",
       "                   n_iter=100, n_jobs=-1,\n",
       "                   param_distributions={&#x27;colsample_bytree&#x27;: [0.6, 0.7, 0.8, 0.9,\n",
       "                                                             1.0],\n",
       "                                        &#x27;learning_rate&#x27;: [0.01, 0.05, 0.1, 0.2],\n",
       "                                        &#x27;max_depth&#x27;: [3, 4, 5, 6, 7],\n",
       "                                        &#x27;n_estimators&#x27;: [50, 100, 150],\n",
       "                                        &#x27;subsample&#x27;: [0.6, 0.7, 0.8, 0.9, 1.0]},\n",
       "                   random_state=42, scoring=&#x27;accuracy&#x27;, verbose=2)</pre></div></div></div><div class=\"sk-parallel\"><div class=\"sk-parallel-item\"><div class=\"sk-item\"><div class=\"sk-label-container\"><div class=\"sk-label sk-toggleable\"><input class=\"sk-toggleable__control sk-hidden--visually\" id=\"sk-estimator-id-2\" type=\"checkbox\" ><label for=\"sk-estimator-id-2\" class=\"sk-toggleable__label sk-toggleable__label-arrow\">estimator: XGBClassifier</label><div class=\"sk-toggleable__content\"><pre>XGBClassifier(base_score=None, booster=None, callbacks=None,\n",
       "              colsample_bylevel=None, colsample_bynode=None,\n",
       "              colsample_bytree=None, device=None, early_stopping_rounds=None,\n",
       "              enable_categorical=False, eval_metric=&#x27;mlogloss&#x27;,\n",
       "              feature_types=None, gamma=None, grow_policy=None,\n",
       "              importance_type=None, interaction_constraints=None,\n",
       "              learning_rate=None, max_bin=None, max_cat_threshold=None,\n",
       "              max_cat_to_onehot=None, max_delta_step=None, max_depth=None,\n",
       "              max_leaves=None, min_child_weight=None, missing=nan,\n",
       "              monotone_constraints=None, multi_strategy=None, n_estimators=None,\n",
       "              n_jobs=None, num_class=13, num_parallel_tree=None, ...)</pre></div></div></div><div class=\"sk-serial\"><div class=\"sk-item\"><div class=\"sk-estimator sk-toggleable\"><input class=\"sk-toggleable__control sk-hidden--visually\" id=\"sk-estimator-id-3\" type=\"checkbox\" ><label for=\"sk-estimator-id-3\" class=\"sk-toggleable__label sk-toggleable__label-arrow\">XGBClassifier</label><div class=\"sk-toggleable__content\"><pre>XGBClassifier(base_score=None, booster=None, callbacks=None,\n",
       "              colsample_bylevel=None, colsample_bynode=None,\n",
       "              colsample_bytree=None, device=None, early_stopping_rounds=None,\n",
       "              enable_categorical=False, eval_metric=&#x27;mlogloss&#x27;,\n",
       "              feature_types=None, gamma=None, grow_policy=None,\n",
       "              importance_type=None, interaction_constraints=None,\n",
       "              learning_rate=None, max_bin=None, max_cat_threshold=None,\n",
       "              max_cat_to_onehot=None, max_delta_step=None, max_depth=None,\n",
       "              max_leaves=None, min_child_weight=None, missing=nan,\n",
       "              monotone_constraints=None, multi_strategy=None, n_estimators=None,\n",
       "              n_jobs=None, num_class=13, num_parallel_tree=None, ...)</pre></div></div></div></div></div></div></div></div></div></div>"
      ],
      "text/plain": [
       "RandomizedSearchCV(cv=3,\n",
       "                   estimator=XGBClassifier(base_score=None, booster=None,\n",
       "                                           callbacks=None,\n",
       "                                           colsample_bylevel=None,\n",
       "                                           colsample_bynode=None,\n",
       "                                           colsample_bytree=None, device=None,\n",
       "                                           early_stopping_rounds=None,\n",
       "                                           enable_categorical=False,\n",
       "                                           eval_metric='mlogloss',\n",
       "                                           feature_types=None, gamma=None,\n",
       "                                           grow_policy=None,\n",
       "                                           importance_type=None,\n",
       "                                           interaction_constraints=None,\n",
       "                                           learnin...\n",
       "                                           monotone_constraints=None,\n",
       "                                           multi_strategy=None,\n",
       "                                           n_estimators=None, n_jobs=None,\n",
       "                                           num_class=13, num_parallel_tree=None, ...),\n",
       "                   n_iter=100, n_jobs=-1,\n",
       "                   param_distributions={'colsample_bytree': [0.6, 0.7, 0.8, 0.9,\n",
       "                                                             1.0],\n",
       "                                        'learning_rate': [0.01, 0.05, 0.1, 0.2],\n",
       "                                        'max_depth': [3, 4, 5, 6, 7],\n",
       "                                        'n_estimators': [50, 100, 150],\n",
       "                                        'subsample': [0.6, 0.7, 0.8, 0.9, 1.0]},\n",
       "                   random_state=42, scoring='accuracy', verbose=2)"
      ]
     },
     "execution_count": 20,
     "metadata": {},
     "output_type": "execute_result"
    }
   ],
   "source": [
    "# Fit RandomizedSearchCV\n",
    "random_search.fit(X_train_combined, y_train)"
   ]
  },
  {
   "cell_type": "code",
   "execution_count": 21,
   "id": "5958922d-a0fb-43d6-8fab-faef8db42b5c",
   "metadata": {},
   "outputs": [],
   "source": [
    "# Get the best model\n",
    "best_model = random_search.best_estimator_"
   ]
  },
  {
   "cell_type": "code",
   "execution_count": 22,
   "id": "8a389827-f461-4239-ad1d-4300e4e55f61",
   "metadata": {},
   "outputs": [],
   "source": [
    "# Make predictions with the best model\n",
    "preds = best_model.predict(X_test_combined)\n"
   ]
  },
  {
   "cell_type": "code",
   "execution_count": 23,
   "id": "eb38446e-bd53-4494-b2db-5cac13041df4",
   "metadata": {},
   "outputs": [
    {
     "name": "stdout",
     "output_type": "stream",
     "text": [
      "Best parameters: {'subsample': 0.9, 'n_estimators': 150, 'max_depth': 6, 'learning_rate': 0.05, 'colsample_bytree': 0.7}\n",
      "Accuracy: 0.6271074380165289\n"
     ]
    }
   ],
   "source": [
    "# Evaluate accuracy\n",
    "accuracy = accuracy_score(y_test, preds)\n",
    "print(f'Best parameters: {random_search.best_params_}')\n",
    "print(f'Accuracy: {accuracy}')"
   ]
  },
  {
   "cell_type": "code",
   "execution_count": null,
   "id": "7b51ea93-7d11-4dd6-be44-f81ac305d996",
   "metadata": {},
   "outputs": [],
   "source": []
  }
 ],
 "metadata": {
  "kernelspec": {
   "display_name": "Python 3 (ipykernel)",
   "language": "python",
   "name": "python3"
  },
  "language_info": {
   "codemirror_mode": {
    "name": "ipython",
    "version": 3
   },
   "file_extension": ".py",
   "mimetype": "text/x-python",
   "name": "python",
   "nbconvert_exporter": "python",
   "pygments_lexer": "ipython3",
   "version": "3.11.7"
  }
 },
 "nbformat": 4,
 "nbformat_minor": 5
}
